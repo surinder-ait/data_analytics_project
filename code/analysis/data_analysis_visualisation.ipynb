{
 "cells": [
  {
   "cell_type": "markdown",
   "metadata": {},
   "source": [
    "## 1. Let us analyse the students dataset."
   ]
  },
  {
   "cell_type": "code",
   "execution_count": null,
   "metadata": {},
   "outputs": [],
   "source": [
    "## Import the required modules\n",
    "import pandas as pd\n",
    "import numpy as np\n",
    "from functools import reduce\n",
    "import seaborn as sns\n",
    "import matplotlib.pyplot as plt\n",
    "import plotly.graph_objects as go\n",
    "from bokeh.plotting import figure, output_file, show#, output_notebook\n",
    "output_file('example.html')\n",
    "pd.set_option('display.max_columns', None)"
   ]
  },
  {
   "cell_type": "code",
   "execution_count": null,
   "metadata": {},
   "outputs": [],
   "source": [
    "## Read the cleaned csv file and load into a new dataframe.\n",
    "\n",
    "df_students_clean = pd.read_csv('../../data/studentPublic_Clean.csv')"
   ]
  },
  {
   "cell_type": "code",
   "execution_count": null,
   "metadata": {},
   "outputs": [],
   "source": [
    "## Get info about the dataframe\n",
    "df_students_clean.info()"
   ]
  },
  {
   "cell_type": "code",
   "execution_count": null,
   "metadata": {},
   "outputs": [],
   "source": [
    "## Get the first few rows of the dataset\n",
    "df_students_clean.head()"
   ]
  },
  {
   "cell_type": "code",
   "execution_count": null,
   "metadata": {},
   "outputs": [],
   "source": [
    "## Get last rows of the dataset\n",
    "df_students_clean.tail()"
   ]
  },
  {
   "cell_type": "code",
   "execution_count": null,
   "metadata": {},
   "outputs": [],
   "source": [
    "## Create a dataframe to get yearly number of students from all nationalities and across all Australian states. \n",
    "df_yearly = df_students_clean[(df_students_clean['nationality'] == '_All') & (df_students_clean['state'] == '_All')]"
   ]
  },
  {
   "cell_type": "code",
   "execution_count": null,
   "metadata": {},
   "outputs": [],
   "source": [
    "## Sort the data by year\n",
    "df_yearly.sort_values('year')"
   ]
  },
  {
   "cell_type": "code",
   "execution_count": null,
   "metadata": {},
   "outputs": [],
   "source": [
    "## The below plot shows yearly trend for Total Number of students from year 2002-2020\n",
    "\n",
    "plt.figure(figsize=(20,8))\n",
    "sns.set(font_scale=1.5)\n",
    "sns.barplot(x = 'year',\n",
    "            y = 'students',\n",
    "            data = df_yearly, palette=\"Blues_d\")\n",
    " \n",
    "# Show the plot\n",
    "plt.xlabel(\"Year\", fontsize=20)\n",
    "plt.ylabel(\"Students\", fontsize=20)\n",
    "plt.title(\"Total No. of International Students from year 2002-2020\", fontsize=25)\n",
    "plt.xticks(rotation=45)\n",
    "plt.show()"
   ]
  },
  {
   "cell_type": "markdown",
   "metadata": {},
   "source": [
    "### We can see from the above bar chart that number of students were growing steadily from 2012 till 2019 and there is small decrease in 2020. This could be attributed to COVID-19 and data for Nov and Dec'2020.  "
   ]
  },
  {
   "cell_type": "code",
   "execution_count": null,
   "metadata": {},
   "outputs": [],
   "source": [
    "df_yearly_1 = df_yearly.pivot_table(\n",
    "    index=['year'],\n",
    "    values=['students'],\n",
    "    aggfunc='sum'\n",
    ")\n",
    "\n",
    "df_yearly_1"
   ]
  },
  {
   "cell_type": "code",
   "execution_count": null,
   "metadata": {},
   "outputs": [],
   "source": [
    "## Let's get the avergage number of students per year from 2002-2020.\n",
    "df_yearly_1.mean()"
   ]
  },
  {
   "cell_type": "code",
   "execution_count": null,
   "metadata": {},
   "outputs": [],
   "source": [
    "##Lets check the countrywise students data for year 2020\n",
    "\n",
    "df_countries_2020 = df_students_clean[(df_students_clean['nationality'] != '_All') & (df_students_clean['state'] == '_All') & (df_students_clean['year'] == 2020)]"
   ]
  },
  {
   "cell_type": "code",
   "execution_count": null,
   "metadata": {},
   "outputs": [],
   "source": [
    "df_countries_2020"
   ]
  },
  {
   "cell_type": "code",
   "execution_count": null,
   "metadata": {},
   "outputs": [],
   "source": [
    "## Sort the data based on students clount from highest to lowest.\n",
    "df_countries_2020 = df_countries_2020.sort_values('students', ascending=False).head(20)"
   ]
  },
  {
   "cell_type": "code",
   "execution_count": null,
   "metadata": {},
   "outputs": [],
   "source": [
    "df_countries_2020"
   ]
  },
  {
   "cell_type": "code",
   "execution_count": null,
   "metadata": {},
   "outputs": [],
   "source": [
    "## The below plot shows Total Number of students year 2020 for top 20 countries\n",
    "\n",
    "plt.figure(figsize=(20,8))\n",
    "sns.set(font_scale=1.5)\n",
    "sns.barplot(x = 'students',\n",
    "            y = 'nationality',\n",
    "            data = df_countries_2020, palette=\"Blues_d\")\n",
    "# Show the plot\n",
    "plt.xlabel(\"Students\", fontsize=20)\n",
    "plt.ylabel(\"Country\", fontsize=20)\n",
    "plt.title(\"Top 20 Countries -International Students for year 2020\", fontsize=25)\n",
    "##plt.xticks(rotation=45)\n",
    "plt.show()"
   ]
  },
  {
   "cell_type": "markdown",
   "metadata": {},
   "source": [
    "## We can see from the above bar chart that China has highest number of students in 2020 followed by India and Nepal."
   ]
  },
  {
   "cell_type": "code",
   "execution_count": null,
   "metadata": {},
   "outputs": [],
   "source": [
    "## Let's get the students data from 2002-2020 for each Australian State/Territory.\n",
    "\n",
    "df_states = df_students_clean[(df_students_clean['nationality'] == '_All') & (df_students_clean['state'] != '_All')]"
   ]
  },
  {
   "cell_type": "code",
   "execution_count": null,
   "metadata": {},
   "outputs": [],
   "source": [
    "df_states"
   ]
  },
  {
   "cell_type": "code",
   "execution_count": null,
   "metadata": {},
   "outputs": [],
   "source": [
    "df_states.head()"
   ]
  },
  {
   "cell_type": "code",
   "execution_count": null,
   "metadata": {},
   "outputs": [],
   "source": [
    "df_states.tail()"
   ]
  },
  {
   "cell_type": "code",
   "execution_count": null,
   "metadata": {},
   "outputs": [],
   "source": [
    "## Sort the values by year.\n",
    "\n",
    "df_states.sort_values('year')"
   ]
  },
  {
   "cell_type": "code",
   "execution_count": null,
   "metadata": {},
   "outputs": [],
   "source": [
    "## The below line chart shows students trend for all the Australian Stats/Territories for the years 2002-2020.\n",
    "\n",
    "fig_size = (20, 10)\n",
    "fig, ax = plt.subplots(figsize=fig_size)\n",
    "sns.lineplot(data=df_states, x='year', y='students', hue='state', ax=ax)\n",
    "plt.xlabel(\"Year\", fontsize= 20)\n",
    "plt.ylabel(\"Total Students\", fontsize= 20)\n",
    "plt.title(\"Yearly Distribution of Students in Each State\", fontsize= 25)"
   ]
  },
  {
   "cell_type": "markdown",
   "metadata": {},
   "source": [
    "## We can see from the above line chart that NSW has highest number of students for all the years followed by Victoria and Queensland."
   ]
  },
  {
   "cell_type": "markdown",
   "metadata": {},
   "source": [
    "## 2. Let us analyse the enrolments dataset."
   ]
  },
  {
   "cell_type": "code",
   "execution_count": null,
   "metadata": {},
   "outputs": [],
   "source": [
    "## Read the cleaned csv file and load into a new dataframe.\n",
    "\n",
    "df_enrol_clean = pd.read_csv('../../data/nationalitySummary_Clean.csv')"
   ]
  },
  {
   "cell_type": "code",
   "execution_count": null,
   "metadata": {},
   "outputs": [],
   "source": [
    "df_enrol_clean.info()"
   ]
  },
  {
   "cell_type": "code",
   "execution_count": null,
   "metadata": {},
   "outputs": [],
   "source": [
    "df_enrol_clean.head()"
   ]
  },
  {
   "cell_type": "code",
   "execution_count": null,
   "metadata": {},
   "outputs": [],
   "source": [
    "df_sector2020 = df_enrol_clean[(df_enrol_clean['sector'] != '_All') & (df_enrol_clean['level of study'] == '_All') & (df_enrol_clean['broad field of education'] == '_All') & (df_enrol_clean['year'] == 2020)]"
   ]
  },
  {
   "cell_type": "code",
   "execution_count": null,
   "metadata": {},
   "outputs": [],
   "source": [
    "df_sector2020"
   ]
  },
  {
   "cell_type": "code",
   "execution_count": null,
   "metadata": {},
   "outputs": [],
   "source": [
    "df_sector2020 = df_sector2020.pivot_table(\n",
    "    index=['sector'],\n",
    "    values=['enrolments', 'commencements'],\n",
    "    aggfunc='sum'\n",
    ")\n",
    "\n",
    "df_sector2020"
   ]
  },
  {
   "cell_type": "markdown",
   "metadata": {},
   "source": [
    "## We can see from the above table that highest number of enrolments in 2020 are in Higher Education sector followed by VET (Voacational Education & Training).\n",
    "## On the other hand, highest number of commencements in 2020 are in VET followed by Higher Education."
   ]
  },
  {
   "cell_type": "markdown",
   "metadata": {},
   "source": [
    "Note: ELICOS -English Language Intensive Courses, \n",
    "      VET -Vocational Education and Training"
   ]
  },
  {
   "cell_type": "code",
   "execution_count": null,
   "metadata": {},
   "outputs": [],
   "source": [
    "## Let's see the %age of enrolments resulted into commencement for all the sectors.\n",
    "\n",
    "df_sector2020['%age'] = ((df_sector2020['commencements'] / df_sector2020['enrolments']) * 100)\n",
    "df_sector2020"
   ]
  },
  {
   "cell_type": "markdown",
   "metadata": {},
   "source": [
    "### It is interesting to know that Higher Education has lowest %age of commencements although the enrolments are highest."
   ]
  },
  {
   "cell_type": "code",
   "execution_count": null,
   "metadata": {},
   "outputs": [],
   "source": [
    "df_sector2020.info()"
   ]
  },
  {
   "cell_type": "code",
   "execution_count": null,
   "metadata": {},
   "outputs": [],
   "source": [
    "## Let's draw a Bokeh bar chart for Sector wise Enrolments for the year 2020\n",
    "\n",
    "label = ['ELICOS', 'Higher Education', 'Non-award', 'Schools', 'VET']\n",
    "\n",
    "p1 = figure(x_range=label,\n",
    "    plot_height=500,\n",
    "    plot_width=500,\n",
    "    title=\"Sector-wise Enrolments - Year 2020\",\n",
    "    x_axis_label=\"Sector\",\n",
    "    y_axis_label=\"Total Enrolments\"\n",
    ")\n",
    "\n",
    "p1.vbar(\n",
    "    x=list(df_sector2020.index),\n",
    "    top=df_sector2020.enrolments,\n",
    "    color='firebrick', width=0.5\n",
    ")\n",
    "p1.left[0].formatter.use_scientific = False\n",
    "p1.title.text_font_size = \"20px\"\n",
    "show(p1)"
   ]
  },
  {
   "cell_type": "code",
   "execution_count": null,
   "metadata": {},
   "outputs": [],
   "source": [
    "## Let's draw a Bokeh bar chart for Sector wise Commencements for the year 2020\n",
    "\n",
    "label = ['ELICOS', 'Higher Education', 'Non-award', 'Schools', 'VET']\n",
    "\n",
    "p2 = figure(x_range=label,\n",
    "    plot_height=500,\n",
    "    plot_width=500,\n",
    "    title=\"Sector-wise Commencements - Year 2020\",\n",
    "    x_axis_label=\"Sector\",\n",
    "    y_axis_label=\"Total Commencements\"\n",
    ")\n",
    "\n",
    "p2.vbar(\n",
    "    x=list(df_sector2020.index),\n",
    "    top=df_sector2020.commencements,\n",
    "    color='firebrick', width=0.5\n",
    ")\n",
    "p2.left[0].formatter.use_scientific = False\n",
    "p2.title.text_font_size = \"20px\"\n",
    "show(p2)"
   ]
  },
  {
   "cell_type": "code",
   "execution_count": null,
   "metadata": {},
   "outputs": [],
   "source": []
  },
  {
   "cell_type": "code",
   "execution_count": null,
   "metadata": {},
   "outputs": [],
   "source": [
    "df_sector_all = df_enrol_clean[(df_enrol_clean['sector'] == '_All') & (df_enrol_clean['level of study'] == '_All') & (df_enrol_clean['broad field of education'] == '_All') & (df_enrol_clean['nationality'] == '_All')]"
   ]
  },
  {
   "cell_type": "code",
   "execution_count": null,
   "metadata": {},
   "outputs": [],
   "source": [
    "df_sector_all.head()"
   ]
  },
  {
   "cell_type": "code",
   "execution_count": null,
   "metadata": {},
   "outputs": [],
   "source": [
    "df_sector_all.info()"
   ]
  },
  {
   "cell_type": "code",
   "execution_count": null,
   "metadata": {},
   "outputs": [],
   "source": [
    "df_sector_all = df_sector_all.pivot_table(\n",
    "    index='year',\n",
    "    values=['enrolments', 'commencements'],\n",
    "    aggfunc='mean'\n",
    ")\n",
    "\n",
    "df_sector_all"
   ]
  },
  {
   "cell_type": "code",
   "execution_count": null,
   "metadata": {},
   "outputs": [],
   "source": [
    "## Lets fraw a bar chart to compare enolments and commencemnets for 2019 & 2020.\n",
    "fig, ax = plt.subplots(1,1, figsize=(20, 8))\n",
    "plt.gcf().axes[0].yaxis.get_major_formatter().set_scientific(False)\n",
    "df_sector_all.plot(kind='bar', ax=ax)\n",
    "ax.legend()\n",
    "\n",
    "plt.title('Enrolments/Commencements- 2019 vs 2020', fontsize=25)\n",
    "plt.xlabel('Year', fontsize=20)\n",
    "plt.ylabel('Total', fontsize=20)\n",
    "\n",
    "plt.show()"
   ]
  },
  {
   "cell_type": "code",
   "execution_count": null,
   "metadata": {},
   "outputs": [],
   "source": []
  }
 ],
 "metadata": {
  "kernelspec": {
   "display_name": "Python 3",
   "language": "python",
   "name": "python3"
  },
  "language_info": {
   "codemirror_mode": {
    "name": "ipython",
    "version": 3
   },
   "file_extension": ".py",
   "mimetype": "text/x-python",
   "name": "python",
   "nbconvert_exporter": "python",
   "pygments_lexer": "ipython3",
   "version": "3.8.3"
  }
 },
 "nbformat": 4,
 "nbformat_minor": 4
}
